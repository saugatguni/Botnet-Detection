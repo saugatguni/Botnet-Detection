{
 "cells": [
  {
   "cell_type": "code",
   "execution_count": 23,
   "metadata": {},
   "outputs": [
    {
     "name": "stdout",
     "output_type": "stream",
     "text": [
      "File loaded successfully!\n",
      "Keys in the dataset:\n",
      "camera_motion (7500, 1214)\n",
      "camera_streaming (7500, 1356)\n",
      "extrusion (7500, 2816)\n",
      "idle (7500, 2490)\n",
      "masuta_when_idle (7500, 1165)\n",
      "masuta_with_camera (7500, 1157)\n",
      "mirai_extrusion (7500, 2200)\n",
      "mirai_idle (7500, 1534)\n",
      "mirai_loader (7500, 792)\n",
      "mirai_with_camera (7500, 910)\n",
      "mirai_with_router (7500, 782)\n",
      "mirai_with_voice (7500, 1018)\n",
      "reboot (7500, 2288)\n",
      "router (7500, 2469)\n",
      "router_ftp (7500, 640)\n",
      "voice_assistant (7500, 2391)\n"
     ]
    }
   ],
   "source": [
    "import os\n",
    "import numpy as np\n",
    "import os\n",
    "import scipy.io as sio\n",
    "import numpy as np\n",
    "import matplotlib.pyplot as plt\n",
    "from sklearn.model_selection import train_test_split\n",
    "from sklearn.svm import SVC\n",
    "from sklearn.metrics import accuracy_score, classification_report, confusion_matrix\n",
    "\n",
    "\n",
    "# 1) Load the .mat file\n",
    "import os\n",
    "data =  \"/home/saugat/Codelinux/Data/Botnet_Detection.mat\"\n",
    "if not os.path.exists(data):\n",
    "    print(\"File not found! Check the path.\")\n",
    "else:\n",
    "    import scipy.io as sio\n",
    "    data = sio.loadmat(data)\n",
    "    print(\"File loaded successfully!\")\n",
    "\n",
    "# 2) Print keys for sanity check\n",
    "print(\"Keys in the dataset:\")\n",
    "for key in data.keys():\n",
    "    if not key.startswith(\"__\"):\n",
    "        print(key, data[key].shape)\n",
    "\n",
    "\n"
   ]
  }
 ],
 "metadata": {
  "kernelspec": {
   "display_name": "Python 3",
   "language": "python",
   "name": "python3"
  },
  "language_info": {
   "codemirror_mode": {
    "name": "ipython",
    "version": 3
   },
   "file_extension": ".py",
   "mimetype": "text/x-python",
   "name": "python",
   "nbconvert_exporter": "python",
   "pygments_lexer": "ipython3",
   "version": "3.10.12"
  }
 },
 "nbformat": 4,
 "nbformat_minor": 2
}
